{
 "cells": [
  {
   "cell_type": "markdown",
   "id": "418d9405-9e95-4c50-b556-b598cb14b900",
   "metadata": {},
   "source": [
    "Q1. What is Abstraction in OOps? Explain with an example.\n",
    "\n",
    "Ans:\n",
    "\n",
    "Abstraction in OOP is a process of hiding the real implementation of the method by only showing a method signature. In Python, we can achieve abstraction using ABC (abstraction class) or abstract method. ABC is a class from the abc module in Python.In otherword it is a blueprint of any classes. \n"
   ]
  },
  {
   "cell_type": "markdown",
   "id": "a44427e8-c5cc-4308-bad0-3a54ca5dac62",
   "metadata": {},
   "source": [
    "##Example:"
   ]
  },
  {
   "cell_type": "code",
   "execution_count": 3,
   "id": "75261ea5-ee78-420d-93cd-72f26c69e401",
   "metadata": {},
   "outputs": [],
   "source": [
    "import abc\n",
    "class student:\n",
    "    @abc.abstractmethod\n",
    "    def student_details():\n",
    "        pass\n",
    "    @abc.abstractmethod\n",
    "    def student_fee():\n",
    "        pass\n",
    "    @abc.abstractmethod\n",
    "    def student_course_details():\n",
    "        pass\n",
    "    "
   ]
  },
  {
   "cell_type": "code",
   "execution_count": 4,
   "id": "10cf6292-87a6-47d4-97bd-9a786867bc19",
   "metadata": {},
   "outputs": [],
   "source": [
    "class college(student):\n",
    "    def student_details(self):\n",
    "        return 'this method is provide student_details.'\n",
    "    def student_fee(self):\n",
    "        return 'this method is provide student_fee'\n",
    "    def student_course_details(self):\n",
    "        return 'this method is provide student_course_details.'\n",
    "    "
   ]
  },
  {
   "cell_type": "code",
   "execution_count": 5,
   "id": "cca40f31-6c9c-4e52-901a-38943d2cbba9",
   "metadata": {},
   "outputs": [],
   "source": [
    "a=college()\n"
   ]
  },
  {
   "cell_type": "code",
   "execution_count": 6,
   "id": "9cef90ed-5a20-41fb-b069-9fc3167fbab7",
   "metadata": {},
   "outputs": [
    {
     "data": {
      "text/plain": [
       "'this method is provide student_details.'"
      ]
     },
     "execution_count": 6,
     "metadata": {},
     "output_type": "execute_result"
    }
   ],
   "source": [
    "a.student_details()"
   ]
  },
  {
   "cell_type": "markdown",
   "id": "2ec12c38-f209-4dc1-bfa8-64dbc4d2d302",
   "metadata": {},
   "source": [
    "Q2. Differentiate between Abstraction and Encapsulation. Explain with an example.\n",
    "\n",
    "Ans:\n",
    "\n",
    "Abstraction is a method of removing the unnecessary details in the code and focusing on the relevant parts. For example, instead of writing a function that multiplies two numbers, we can write a function “multiply” and use it to multiply any number with any number. Abstraction is a way of representing some specific data. \n",
    "\n",
    "Encapsulation is a way of hiding the complexity of something and exposing only the parts you wish to expose. For example, if you have a class that has one or more private fields that you use to store the data, then you are in encapsulation. The class contains the data and has methods that expose the public data.Basically hidden data from users so don't change any instance variable value.\n",
    "\n",
    "\n"
   ]
  },
  {
   "cell_type": "markdown",
   "id": "6655962b-7e80-446d-8d92-b650b631b104",
   "metadata": {},
   "source": [
    "##Example"
   ]
  },
  {
   "cell_type": "code",
   "execution_count": 18,
   "id": "47af2c90-f3a7-4d75-9cd2-d5f9fc9a5ede",
   "metadata": {},
   "outputs": [],
   "source": [
    "class mobile:\n",
    "    def __init__(self,n,p):\n",
    "        self.__n=n\n",
    "        self.__p=p\n",
    "    def set_price(self,p):\n",
    "        self.__p=p\n",
    "    def get_price(self):\n",
    "        return self.__p\n",
    "    def m_details(self):\n",
    "        return self.__n,self.__p\n",
    "        \n",
    "        "
   ]
  },
  {
   "cell_type": "code",
   "execution_count": 19,
   "id": "c245a660-4bd3-46d5-8e0b-8dadc06dc958",
   "metadata": {},
   "outputs": [],
   "source": [
    "a=mobile('nokia',5000)\n"
   ]
  },
  {
   "cell_type": "code",
   "execution_count": 16,
   "id": "8654d909-732d-45dd-b048-1070495d1544",
   "metadata": {},
   "outputs": [],
   "source": [
    "a.set_price(4000)"
   ]
  },
  {
   "cell_type": "code",
   "execution_count": 17,
   "id": "d3cb7391-254b-4d9d-9cc4-fbde0392af78",
   "metadata": {},
   "outputs": [
    {
     "data": {
      "text/plain": [
       "4000"
      ]
     },
     "execution_count": 17,
     "metadata": {},
     "output_type": "execute_result"
    }
   ],
   "source": [
    "a.get_price()"
   ]
  },
  {
   "cell_type": "code",
   "execution_count": 20,
   "id": "7bfb784e-b7b2-4642-83f5-b0cfdfc9aac6",
   "metadata": {},
   "outputs": [
    {
     "data": {
      "text/plain": [
       "('nokia', 5000)"
      ]
     },
     "execution_count": 20,
     "metadata": {},
     "output_type": "execute_result"
    }
   ],
   "source": [
    "a.m_details()"
   ]
  },
  {
   "cell_type": "markdown",
   "id": "0e9de2f4-2aa2-48d4-8e6e-4ffda1ca54a1",
   "metadata": {},
   "source": [
    "Q3. What is abc module in python? Why is it used\n",
    "\n",
    "Ans:\n",
    "\n",
    "The 'abc' module in the Python library provides the infrastructure for defining custom abstract base classes. Abstract class cannot be instantiated in python. An Abstract method can be call by its subclasses.In otherword abc module is provide to create abstract method by using @abc.abstractmethod decorator."
   ]
  },
  {
   "cell_type": "markdown",
   "id": "f76a3ba9-fbcd-45d7-8b3d-860c6bae7cc2",
   "metadata": {},
   "source": [
    "Q4. How can we achieve data abstraction?\n",
    "Ans:\n",
    "\n",
    "Data abstraction is a method where essential elements are displayed to the user and trivial elements are kept hidden. In Java, abstraction is achieved by using the abstract keyword for classes and interfaces. In abstract classes, we can have abstract methods as well as concrete methods"
   ]
  },
  {
   "cell_type": "markdown",
   "id": "ca7862d2-67d8-4fa1-88a0-45717d922dd4",
   "metadata": {},
   "source": [
    "Q5. Can we create an instance of an abstract class? Explain your answer.\n",
    "Ans:\n",
    "\n",
    "We cannot create an abstract class in Python directly. However, Python does provide a module that allows us to define abstract classes. The module we can use to create an abstract class in Python is abc(abstract base class) module"
   ]
  }
 ],
 "metadata": {
  "kernelspec": {
   "display_name": "Python 3 (ipykernel)",
   "language": "python",
   "name": "python3"
  },
  "language_info": {
   "codemirror_mode": {
    "name": "ipython",
    "version": 3
   },
   "file_extension": ".py",
   "mimetype": "text/x-python",
   "name": "python",
   "nbconvert_exporter": "python",
   "pygments_lexer": "ipython3",
   "version": "3.10.8"
  }
 },
 "nbformat": 4,
 "nbformat_minor": 5
}
